{
 "cells": [
  {
   "cell_type": "code",
   "execution_count": 1,
   "metadata": {},
   "outputs": [],
   "source": [
    "import re"
   ]
  },
  {
   "cell_type": "code",
   "execution_count": 2,
   "metadata": {},
   "outputs": [],
   "source": [
    "opt_pattern_format = \"({})?\"\n",
    "row_pattern_base = r'^(?P<level>\\d{1,3})\\s+(?P<name>\\S+)'\n",
    "row_pattern_occur = r'\\s+OCCURS\\s+(\\d+\\s+TO\\s+)?(?P<occurs>\\d+)(\\s+TIMES)?'\n",
    "row_pattern_indexed_by = r\"\\s+INDEXED BY\\s(?P<indexed_by>\\S+)\"\n",
    "row_pattern_redefine = r\"\\s+REDEFINES\\s+(?P<redefines>\\S+)\"\n",
    "row_pattern_pic = r'\\s+PIC\\s+(?P<pic>\\S+)'\n",
    "row_pattern_usage = r'\\s+(USAGE\\s+)?(IS\\s+)?(?P<usage>\\S+)'\n",
    "row_pattern_remainder = r'(?P<remainder>.*)'\n",
    "row_pattern_end = r'\\.$'\n",
    "row_pattern = re.compile(row_pattern_base +\n",
    "                         opt_pattern_format.format(row_pattern_redefine) +\n",
    "                         opt_pattern_format.format(row_pattern_occur) +\n",
    "                         opt_pattern_format.format(row_pattern_indexed_by) +\n",
    "                         opt_pattern_format.format(row_pattern_pic) +\n",
    "                         opt_pattern_format.format(row_pattern_usage) +\n",
    "                         row_pattern_remainder +\n",
    "                         row_pattern_end)\n",
    "row_pattern_redefines = re.compile(row_pattern_redefine)\n",
    "\n",
    "row_pattern_occurs = re.compile(row_pattern_occur)"
   ]
  },
  {
   "cell_type": "code",
   "execution_count": 3,
   "metadata": {},
   "outputs": [],
   "source": [
    "line = \"\"\"      05  AMCR-LB-RO-FREQ PIC 99 OCCURS 4 TIMES INDEXED BY X-LB-ROF.\"\"\""
   ]
  },
  {
   "cell_type": "code",
   "execution_count": 5,
   "metadata": {},
   "outputs": [
    {
     "data": {
      "text/plain": [
       "{'indexed_by': None,\n",
       " 'level': '05',\n",
       " 'name': 'AMCR-LB-RO-FREQ',\n",
       " 'occurs': None,\n",
       " 'pic': '99',\n",
       " 'redefines': None,\n",
       " 'remainder': ' 4 TIMES INDEXED BY X-LB-ROF',\n",
       " 'usage': 'OCCURS'}"
      ]
     },
     "execution_count": 5,
     "metadata": {},
     "output_type": "execute_result"
    }
   ],
   "source": [
    "match = row_pattern.match(line.strip())\n",
    "match = match.groupdict()\n",
    "match"
   ]
  },
  {
   "cell_type": "code",
   "execution_count": 12,
   "metadata": {},
   "outputs": [],
   "source": [
    "if 'OCCURS' in line and not match['occurs']:\n",
    "    match['occurs'] = row_pattern_occurs.search(line).groupdict().get('occurs')"
   ]
  },
  {
   "cell_type": "code",
   "execution_count": 13,
   "metadata": {},
   "outputs": [
    {
     "data": {
      "text/plain": [
       "{'indexed_by': None,\n",
       " 'level': '05',\n",
       " 'name': 'AMCR-LB-RO-FREQ',\n",
       " 'occurs': '4',\n",
       " 'pic': '99',\n",
       " 'redefines': None,\n",
       " 'remainder': ' 4 TIMES INDEXED BY X-LB-ROF',\n",
       " 'usage': 'OCCURS'}"
      ]
     },
     "execution_count": 13,
     "metadata": {},
     "output_type": "execute_result"
    }
   ],
   "source": [
    "match"
   ]
  }
 ],
 "metadata": {
  "kernelspec": {
   "display_name": "Python 2",
   "language": "python",
   "name": "python2"
  },
  "language_info": {
   "codemirror_mode": {
    "name": "ipython",
    "version": 2
   },
   "file_extension": ".py",
   "mimetype": "text/x-python",
   "name": "python",
   "nbconvert_exporter": "python",
   "pygments_lexer": "ipython2",
   "version": "2.7.15"
  }
 },
 "nbformat": 4,
 "nbformat_minor": 1
}
