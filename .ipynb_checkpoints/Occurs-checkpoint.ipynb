{
 "cells": [
  {
   "cell_type": "code",
   "execution_count": 1,
   "metadata": {
    "collapsed": true
   },
   "outputs": [],
   "source": [
    "import urllib2\n",
    "import json"
   ]
  },
  {
   "cell_type": "code",
   "execution_count": 10,
   "metadata": {
    "collapsed": false
   },
   "outputs": [
    {
     "data": {
      "text/plain": [
       "0"
      ]
     },
     "execution_count": 10,
     "metadata": {},
     "output_type": "execute_result"
    }
   ],
   "source": [
    "filejson = open(r'record.json')\n",
    "line = filejson.readline()\n",
    "linejson = json.loads(line.decode('utf-8'))\n",
    "linejson[u'decimals']"
   ]
  },
  {
   "cell_type": "code",
   "execution_count": 2,
   "metadata": {
    "collapsed": false
   },
   "outputs": [
    {
     "data": {
      "text/plain": [
       "'{\"bairro\": \"Parque S\\\\u00e3o Domingos\", \"cidade\": \"S\\\\u00e3o Paulo\", \"logradouro\": \"Rua Doutor Odon Carlos de Figueiredo Ferraz\", \"estado_info\": {\"area_km2\": \"248.221,996\", \"codigo_ibge\": \"35\", \"nome\": \"S\\\\u00e3o Paulo\"}, \"cep\": \"05121000\", \"cidade_info\": {\"area_km2\": \"1521,11\", \"codigo_ibge\": \"3550308\"}, \"estado\": \"SP\"}'"
      ]
     },
     "execution_count": 2,
     "metadata": {},
     "output_type": "execute_result"
    }
   ],
   "source": [
    "URL = 'http://api.postmon.com.br/v1/cep/05121-000'\n",
    "page = urllib2.urlopen(URL).read() \n",
    "page"
   ]
  },
  {
   "cell_type": "code",
   "execution_count": 3,
   "metadata": {
    "collapsed": false
   },
   "outputs": [
    {
     "data": {
      "text/plain": [
       "{u'bairro': u'Parque S\\xe3o Domingos',\n",
       " u'cep': u'05121000',\n",
       " u'cidade': u'S\\xe3o Paulo',\n",
       " u'cidade_info': {u'area_km2': u'1521,11', u'codigo_ibge': u'3550308'},\n",
       " u'estado': u'SP',\n",
       " u'estado_info': {u'area_km2': u'248.221,996',\n",
       "  u'codigo_ibge': u'35',\n",
       "  u'nome': u'S\\xe3o Paulo'},\n",
       " u'logradouro': u'Rua Doutor Odon Carlos de Figueiredo Ferraz'}"
      ]
     },
     "execution_count": 3,
     "metadata": {},
     "output_type": "execute_result"
    }
   ],
   "source": [
    "parsed = json.loads(page.decode('utf-8'))\n",
    "parsed"
   ]
  }
 ],
 "metadata": {
  "kernelspec": {
   "display_name": "Python 2",
   "language": "python",
   "name": "python2"
  },
  "language_info": {
   "codemirror_mode": {
    "name": "ipython",
    "version": 2
   },
   "file_extension": ".py",
   "mimetype": "text/x-python",
   "name": "python",
   "nbconvert_exporter": "python",
   "pygments_lexer": "ipython2",
   "version": "2.7.12"
  }
 },
 "nbformat": 4,
 "nbformat_minor": 1
}
