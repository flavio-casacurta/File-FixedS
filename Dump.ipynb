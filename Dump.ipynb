{
 "cells": [
  {
   "cell_type": "code",
   "execution_count": null,
   "metadata": {},
   "outputs": [],
   "source": [
    "import json\n",
    "from collections import namedtuple"
   ]
  },
  {
   "cell_type": "code",
   "execution_count": null,
   "metadata": {},
   "outputs": [],
   "source": [
    "filejson = r'record_dump'\n",
    "filejson = filejson if filejson.endswith('.json') else '{}.json'.format(filejson)\n",
    "attrs = open(filejson).readlines()\n",
    "lattrs = [json.loads(line.decode('utf-8')) for line in attrs]"
   ]
  },
  {
   "cell_type": "code",
   "execution_count": null,
   "metadata": {},
   "outputs": [],
   "source": [
    "attr = [att['field'][1] for att in lattrs]\n",
    "attr "
   ]
  },
  {
   "cell_type": "code",
   "execution_count": null,
   "metadata": {},
   "outputs": [],
   "source": [
    "mpn = {mpn['field'][1]:mpn['field'][0] for mpn in lattrs}\n",
    "mpn"
   ]
  },
  {
   "cell_type": "code",
   "execution_count": null,
   "metadata": {
    "scrolled": true
   },
   "outputs": [],
   "source": [
    "with open(r'C:\\Python\\MyTools\\File-FixedS\\record_dump.txt') as fi:\n",
    "    for row in fi:\n",
    "        print row\n",
    "        start = 0\n",
    "        for att in lattrs:\n",
    "            mp = 1\n",
    "            if att['sign']:\n",
    "                att['length'] = att['length'] + 1\n",
    "            print \"att['field'][1]\"    \n",
    "            if mpn[att['field'][1]] != 'N':\n",
    "                print \"mpn[att['field'][1]]\", mpn[att['field'][1]]\n",
    "                mp = ord(row[start:start+1])\n",
    "                start += 1\n",
    "            att['length'] = att['length'] * mp        \n",
    "            exec (\"{} = slice({}, {})\".format(att['field'][1], start, (start + att['length'])))\n",
    "            print att['field'][1], '-', eval(\"{}\".format(att['field'][1]))\n",
    "            start += att['length']"
   ]
  },
  {
   "cell_type": "code",
   "execution_count": null,
   "metadata": {},
   "outputs": [],
   "source": [
    "line = \"02\u0002000000123412+000000123412+RSFLAVIO       X\"\n",
    "\n",
    "tr = slice(0, 2, None)\n",
    "valor = slice(3, 29, None)\n",
    "estado = slice(29, 31, None)\n",
    "nome = slice(31, 45, None)\n"
   ]
  },
  {
   "cell_type": "code",
   "execution_count": null,
   "metadata": {},
   "outputs": [],
   "source": [
    "print line[0:2]\n",
    "print line[3:29]\n",
    "print line[29:31]\n",
    "print line[31:45]"
   ]
  },
  {
   "cell_type": "code",
   "execution_count": null,
   "metadata": {},
   "outputs": [],
   "source": [
    "fileIn =  open(r'D:\\Natural\\PRODEB\\DUMPs\\XQ00B.C00.REORG.F135.DECOMP').readlines()"
   ]
  },
  {
   "cell_type": "code",
   "execution_count": null,
   "metadata": {},
   "outputs": [],
   "source": [
    "len(fileIn)"
   ]
  },
  {
   "cell_type": "code",
   "execution_count": null,
   "metadata": {},
   "outputs": [],
   "source": [
    "'OF\u001a\u001a\u001a\u001aZZZ'.decode('utf-8', 'ignore')"
   ]
  },
  {
   "cell_type": "code",
   "execution_count": 3,
   "metadata": {},
   "outputs": [],
   "source": [
    "from unicodedata import normalize\n",
    "ta = lambda txt: normalize('NFKD', txt.decode('UTF-8')).encode('ASCII', 'ignore')"
   ]
  },
  {
   "cell_type": "code",
   "execution_count": 4,
   "metadata": {},
   "outputs": [
    {
     "data": {
      "text/plain": [
       "'SIMOES'"
      ]
     },
     "execution_count": 4,
     "metadata": {},
     "output_type": "execute_result"
    }
   ],
   "source": [
    "ta('SIMÕES')"
   ]
  },
  {
   "cell_type": "code",
   "execution_count": 1,
   "metadata": {},
   "outputs": [
    {
     "data": {
      "text/plain": [
       "u'SIM\\xd5ES'"
      ]
     },
     "execution_count": 1,
     "metadata": {},
     "output_type": "execute_result"
    }
   ],
   "source": [
    "'SIMÕES'.decode('utf-8', 'ignore')"
   ]
  },
  {
   "cell_type": "code",
   "execution_count": null,
   "metadata": {},
   "outputs": [],
   "source": []
  }
 ],
 "metadata": {
  "kernelspec": {
   "display_name": "Python 2",
   "language": "python",
   "name": "python2"
  },
  "language_info": {
   "codemirror_mode": {
    "name": "ipython",
    "version": 2
   },
   "file_extension": ".py",
   "mimetype": "text/x-python",
   "name": "python",
   "nbconvert_exporter": "python",
   "pygments_lexer": "ipython2",
   "version": "2.7.14"
  }
 },
 "nbformat": 4,
 "nbformat_minor": 1
}
