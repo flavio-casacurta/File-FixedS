{
 "cells": [
  {
   "cell_type": "code",
   "execution_count": 1,
   "metadata": {
    "collapsed": true
   },
   "outputs": [],
   "source": [
    "from fixed_files import Fixed_files\n",
    "ff = Fixed_files(r'C:\\BNB\\S303\\GERADOS\\Json\\B303W80.json', dic=False, checklength=False)\n",
    "records = open(r'C:\\BNB\\S303\\GERADOS\\Json\\B303W80.txt').readlines()\n",
    "rec_in = []\n"
   ]
  },
  {
   "cell_type": "code",
   "execution_count": 2,
   "metadata": {},
   "outputs": [
    {
     "data": {
      "text/plain": [
       "[Record(progr_w80=12345, saldo_ant_cz_w80=123456789012345.12, saldo_ant_um_w80=123456789012.12344)]"
      ]
     },
     "execution_count": 2,
     "metadata": {},
     "output_type": "execute_result"
    }
   ],
   "source": [
    "for record in records:\n",
    "    rec_in.append(ff.parse(record))\n",
    "rec_in"
   ]
  },
  {
   "cell_type": "code",
   "execution_count": 3,
   "metadata": {},
   "outputs": [
    {
     "name": "stdout",
     "output_type": "stream",
     "text": [
      "Record(progr_w80=12345, saldo_ant_cz_w80=123456789012345.12, saldo_ant_um_w80=123456789012.12344)\n"
     ]
    }
   ],
   "source": [
    "for rec in rec_in:\n",
    "    print rec"
   ]
  },
  {
   "cell_type": "code",
   "execution_count": 5,
   "metadata": {},
   "outputs": [
    {
     "name": "stdout",
     "output_type": "stream",
     "text": [
      "1234512345678901234512+12345678901212345+\n",
      "\n",
      "1234512345678901234512+12345678901212344+\n",
      "\n",
      "False\n"
     ]
    }
   ],
   "source": [
    "for n, r in enumerate(rec_in):\n",
    "    print records[n]\n",
    "    print ff.unparse(r)\n",
    "    print ff.unparse(r) == records[n]\n"
   ]
  },
  {
   "cell_type": "code",
   "execution_count": 7,
   "metadata": {},
   "outputs": [
    {
     "data": {
      "text/plain": [
       "True"
      ]
     },
     "execution_count": 7,
     "metadata": {},
     "output_type": "execute_result"
    }
   ],
   "source": [
    "'8102018'[::-1] == '8102018'"
   ]
  },
  {
   "cell_type": "code",
   "execution_count": 4,
   "metadata": {},
   "outputs": [
    {
     "data": {
      "text/plain": [
       "'oivalf'"
      ]
     },
     "execution_count": 4,
     "metadata": {},
     "output_type": "execute_result"
    }
   ],
   "source": [
    "'flavio'[::-1]"
   ]
  }
 ],
 "metadata": {
  "kernelspec": {
   "display_name": "Python 2",
   "language": "python",
   "name": "python2"
  },
  "language_info": {
   "codemirror_mode": {
    "name": "ipython",
    "version": 2
   },
   "file_extension": ".py",
   "mimetype": "text/x-python",
   "name": "python",
   "nbconvert_exporter": "python",
   "pygments_lexer": "ipython2",
   "version": "2.7.15"
  }
 },
 "nbformat": 4,
 "nbformat_minor": 1
}
